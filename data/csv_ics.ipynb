{
 "cells": [
  {
   "cell_type": "code",
   "execution_count": 24,
   "metadata": {},
   "outputs": [],
   "source": [
    "import re\n",
    "\n",
    "BEGIN_CALENDAR = \"BEGIN:VCALENDAR\"\n",
    "END_CALENDAR = \"END:VCALENDAR\"\n",
    "\n",
    "BEGIN_EVENT = \"BEGIN:VEVENT\"\n",
    "END_EVENT = \"END:VEVENT\"\n",
    "\n",
    "file = open(\"arc.ics\").read()\n",
    "\n",
    "start = re.search(BEGIN_EVENT, str(file)).span()[0]\n",
    "end = re.search(END_CALENDAR, file).span()[0]\n",
    "\n",
    "header = file[:start].strip()\n",
    "footer = \"\\n\" + file[end:]\n",
    "file = file[start:end]  # trimmed file\n",
    "\n",
    "## add &sep in one line so we can use this as unified\n",
    "## way to split the whole file through \"&semp\"\n",
    "file = file.replace(\"END:VEVENT\", \"END:VEVENT&sep\")\n",
    "data = file.split(\"&sep\")\n",
    "\n",
    "\n",
    "majors = {}\n",
    "\n",
    "pattern = \"(SUMMARY:)([^\\s]+)(.*)\"\n",
    "\n",
    "for element in data:\n",
    "    if element != \"\\n\":\n",
    "        match = re.sub(r'\\d+', '',re.search(pattern, element).group(2).strip())\n",
    "        if match:\n",
    "            if match not in majors:\n",
    "                majors[match] = [element]\n",
    "            else:\n",
    "                majors[match].append(element)\n",
    "\n",
    "for major in majors.keys():\n",
    "    #print(major)\n",
    "    major_cal = \"\\n\".join(majors[major])\n",
    "    major_cal = header+major_cal+footer\n",
    "    with open(f'major_specific_ics/{major}.ics','w') as f:\n",
    "        f.write(major_cal)\n",
    "    #print(f'Success, new cal generated: {major}.ics')\n",
    "        \n"
   ]
  }
 ],
 "metadata": {
  "interpreter": {
   "hash": "916dbcbb3f70747c44a77c7bcd40155683ae19c65e1c03b4aa3499c5328201f1"
  },
  "kernelspec": {
   "display_name": "Python 3.8.10 64-bit",
   "name": "python3"
  },
  "language_info": {
   "codemirror_mode": {
    "name": "ipython",
    "version": 3
   },
   "file_extension": ".py",
   "mimetype": "text/x-python",
   "name": "python",
   "nbconvert_exporter": "python",
   "pygments_lexer": "ipython3",
   "version": "3.8.10"
  }
 },
 "nbformat": 4,
 "nbformat_minor": 4
}
